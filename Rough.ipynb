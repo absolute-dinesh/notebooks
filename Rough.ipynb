{
 "cells": [
  {
   "cell_type": "code",
   "execution_count": 1,
   "id": "961e5dbd",
   "metadata": {},
   "outputs": [],
   "source": [
    "x = [1,2,3]"
   ]
  },
  {
   "cell_type": "code",
   "execution_count": 4,
   "id": "42f7dc6b",
   "metadata": {},
   "outputs": [
    {
     "data": {
      "text/plain": [
       "2"
      ]
     },
     "execution_count": 4,
     "metadata": {},
     "output_type": "execute_result"
    }
   ],
   "source": [
    "x.index(3)"
   ]
  },
  {
   "cell_type": "code",
   "execution_count": 1,
   "id": "7e03c21e",
   "metadata": {},
   "outputs": [],
   "source": [
    "x = {}"
   ]
  },
  {
   "cell_type": "code",
   "execution_count": 2,
   "id": "c23b6c88",
   "metadata": {},
   "outputs": [],
   "source": [
    "x['abc'] = ['1','2']"
   ]
  },
  {
   "cell_type": "code",
   "execution_count": 3,
   "id": "937069d9",
   "metadata": {},
   "outputs": [
    {
     "data": {
      "text/plain": [
       "{'abc': ['1', '2']}"
      ]
     },
     "execution_count": 3,
     "metadata": {},
     "output_type": "execute_result"
    }
   ],
   "source": [
    "x"
   ]
  },
  {
   "cell_type": "code",
   "execution_count": 5,
   "id": "03939da1",
   "metadata": {},
   "outputs": [],
   "source": [
    "x['abc'].append('3')"
   ]
  },
  {
   "cell_type": "code",
   "execution_count": 6,
   "id": "cf07db0c",
   "metadata": {},
   "outputs": [
    {
     "data": {
      "text/plain": [
       "{'abc': ['1', '2', '3']}"
      ]
     },
     "execution_count": 6,
     "metadata": {},
     "output_type": "execute_result"
    }
   ],
   "source": [
    "x"
   ]
  },
  {
   "cell_type": "code",
   "execution_count": 9,
   "id": "fbc5c859",
   "metadata": {},
   "outputs": [
    {
     "data": {
      "text/plain": [
       "[['1', '2', '3']]"
      ]
     },
     "execution_count": 9,
     "metadata": {},
     "output_type": "execute_result"
    }
   ],
   "source": [
    "list(x.values())"
   ]
  },
  {
   "cell_type": "code",
   "execution_count": 10,
   "id": "1a629741",
   "metadata": {},
   "outputs": [
    {
     "name": "stdout",
     "output_type": "stream",
     "text": [
      "abc ['1', '2', '3']\n"
     ]
    }
   ],
   "source": [
    "for i,j in x.items():\n",
    "    print(i,j)"
   ]
  },
  {
   "cell_type": "code",
   "execution_count": null,
   "id": "6b2e743e",
   "metadata": {},
   "outputs": [],
   "source": []
  }
 ],
 "metadata": {
  "kernelspec": {
   "display_name": "Python 3 (ipykernel)",
   "language": "python",
   "name": "python3"
  },
  "language_info": {
   "codemirror_mode": {
    "name": "ipython",
    "version": 3
   },
   "file_extension": ".py",
   "mimetype": "text/x-python",
   "name": "python",
   "nbconvert_exporter": "python",
   "pygments_lexer": "ipython3",
   "version": "3.11.3"
  }
 },
 "nbformat": 4,
 "nbformat_minor": 5
}
